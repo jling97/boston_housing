{
 "cells": [
  {
   "cell_type": "code",
   "execution_count": 1,
   "metadata": {
    "colab": {
     "base_uri": "https://localhost:8080/",
     "height": 34
    },
    "colab_type": "code",
    "executionInfo": {
     "elapsed": 616,
     "status": "ok",
     "timestamp": 1600791687229,
     "user": {
      "displayName": "Jia-Ling Chang",
      "photoUrl": "",
      "userId": "16568341028415145981"
     },
     "user_tz": -480
    },
    "id": "ux58Qussy0BL",
    "outputId": "5ff9429b-c9e9-4311-9ea4-6b74649abd1f"
   },
   "outputs": [
    {
     "name": "stdout",
     "output_type": "stream",
     "text": [
      "env: KERAS_BACKEND=tensorflow\n"
     ]
    }
   ],
   "source": [
    "%env KERAS_BACKEND=tensorflow"
   ]
  },
  {
   "cell_type": "code",
   "execution_count": 2,
   "metadata": {
    "colab": {},
    "colab_type": "code",
    "executionInfo": {
     "elapsed": 856,
     "status": "ok",
     "timestamp": 1600791692570,
     "user": {
      "displayName": "Jia-Ling Chang",
      "photoUrl": "",
      "userId": "16568341028415145981"
     },
     "user_tz": -480
    },
    "id": "tDuwvOhQzNkR"
   },
   "outputs": [],
   "source": [
    "%matplotlib inline\n",
    "import numpy as np\n",
    "import matplotlib.pyplot as plt"
   ]
  },
  {
   "cell_type": "code",
   "execution_count": 3,
   "metadata": {
    "colab": {
     "base_uri": "https://localhost:8080/",
     "height": 50
    },
    "colab_type": "code",
    "executionInfo": {
     "elapsed": 2202,
     "status": "ok",
     "timestamp": 1600791695898,
     "user": {
      "displayName": "Jia-Ling Chang",
      "photoUrl": "",
      "userId": "16568341028415145981"
     },
     "user_tz": -480
    },
    "id": "ZwmlpiJ6zXxA",
    "outputId": "82e0c44e-5c61-4422-b37e-4719e59d3fbd"
   },
   "outputs": [
    {
     "name": "stdout",
     "output_type": "stream",
     "text": [
      "Downloading data from https://storage.googleapis.com/tensorflow/tf-keras-datasets/boston_housing.npz\n",
      "57344/57026 [==============================] - 0s 0us/step\n"
     ]
    }
   ],
   "source": [
    "#載入波士頓房價資料集\n",
    "from keras.datasets import boston_housing\n",
    "(train_data,train_targets),(test_data,test_targets)=boston_housing.load_data()"
   ]
  },
  {
   "cell_type": "code",
   "execution_count": 4,
   "metadata": {
    "colab": {
     "base_uri": "https://localhost:8080/",
     "height": 34
    },
    "colab_type": "code",
    "executionInfo": {
     "elapsed": 811,
     "status": "ok",
     "timestamp": 1600791702638,
     "user": {
      "displayName": "Jia-Ling Chang",
      "photoUrl": "",
      "userId": "16568341028415145981"
     },
     "user_tz": -480
    },
    "id": "ADIEhbqGz9J0",
    "outputId": "6441696b-5ebd-4b2d-e0f8-f41cf5cf5966"
   },
   "outputs": [
    {
     "data": {
      "text/plain": [
       "((404, 13), (102, 13))"
      ]
     },
     "execution_count": 4,
     "metadata": {
      "tags": []
     },
     "output_type": "execute_result"
    }
   ],
   "source": [
    "train_data.shape,test_data.shape"
   ]
  },
  {
   "cell_type": "code",
   "execution_count": 5,
   "metadata": {
    "colab": {
     "base_uri": "https://localhost:8080/",
     "height": 235
    },
    "colab_type": "code",
    "executionInfo": {
     "elapsed": 1588,
     "status": "ok",
     "timestamp": 1600791706145,
     "user": {
      "displayName": "Jia-Ling Chang",
      "photoUrl": "",
      "userId": "16568341028415145981"
     },
     "user_tz": -480
    },
    "id": "0BSkQ8W40uTl",
    "outputId": "a9cf974f-7f72-4e6e-8756-e9336f841c1b"
   },
   "outputs": [
    {
     "data": {
      "text/plain": [
       "array([[1.23247e+00, 0.00000e+00, 8.14000e+00, ..., 2.10000e+01,\n",
       "        3.96900e+02, 1.87200e+01],\n",
       "       [2.17700e-02, 8.25000e+01, 2.03000e+00, ..., 1.47000e+01,\n",
       "        3.95380e+02, 3.11000e+00],\n",
       "       [4.89822e+00, 0.00000e+00, 1.81000e+01, ..., 2.02000e+01,\n",
       "        3.75520e+02, 3.26000e+00],\n",
       "       ...,\n",
       "       [3.46600e-02, 3.50000e+01, 6.06000e+00, ..., 1.69000e+01,\n",
       "        3.62250e+02, 7.83000e+00],\n",
       "       [2.14918e+00, 0.00000e+00, 1.95800e+01, ..., 1.47000e+01,\n",
       "        2.61950e+02, 1.57900e+01],\n",
       "       [1.43900e-02, 6.00000e+01, 2.93000e+00, ..., 1.56000e+01,\n",
       "        3.76700e+02, 4.38000e+00]])"
      ]
     },
     "execution_count": 5,
     "metadata": {
      "tags": []
     },
     "output_type": "execute_result"
    }
   ],
   "source": [
    "train_data"
   ]
  },
  {
   "cell_type": "code",
   "execution_count": 6,
   "metadata": {
    "colab": {},
    "colab_type": "code",
    "executionInfo": {
     "elapsed": 895,
     "status": "ok",
     "timestamp": 1600791708691,
     "user": {
      "displayName": "Jia-Ling Chang",
      "photoUrl": "",
      "userId": "16568341028415145981"
     },
     "user_tz": -480
    },
    "id": "bmhQFrpW1SRk"
   },
   "outputs": [],
   "source": [
    "#正規化資料\n",
    "mean=train_data.mean(axis=0)#沿著第0軸(batch_size軸)算平均\n",
    "train_data=train_data-mean\n",
    "std=train_data.std(axis=0)#沿著第0軸(batch_size軸)算標準差\n",
    "train_data=train_data/std\n",
    "\n",
    "test_data=test_data-mean\n",
    "test_data=test_data/std"
   ]
  },
  {
   "cell_type": "code",
   "execution_count": 7,
   "metadata": {
    "colab": {
     "base_uri": "https://localhost:8080/",
     "height": 235
    },
    "colab_type": "code",
    "executionInfo": {
     "elapsed": 915,
     "status": "ok",
     "timestamp": 1600791711584,
     "user": {
      "displayName": "Jia-Ling Chang",
      "photoUrl": "",
      "userId": "16568341028415145981"
     },
     "user_tz": -480
    },
    "id": "VGTN7L9e2w6H",
    "outputId": "fe519678-fd6b-4079-ebf2-1b79f4a2c27f"
   },
   "outputs": [
    {
     "data": {
      "text/plain": [
       "array([[-0.27224633, -0.48361547, -0.43576161, ...,  1.14850044,\n",
       "         0.44807713,  0.8252202 ],\n",
       "       [-0.40342651,  2.99178419, -1.33391162, ..., -1.71818909,\n",
       "         0.43190599, -1.32920239],\n",
       "       [ 0.1249402 , -0.48361547,  1.0283258 , ...,  0.78447637,\n",
       "         0.22061726, -1.30850006],\n",
       "       ...,\n",
       "       [-0.40202987,  0.99079651, -0.7415148 , ..., -0.71712291,\n",
       "         0.07943894, -0.67776904],\n",
       "       [-0.17292018, -0.48361547,  1.24588095, ..., -1.71818909,\n",
       "        -0.98764362,  0.42083466],\n",
       "       [-0.40422614,  2.04394792, -1.20161456, ..., -1.30866202,\n",
       "         0.23317118, -1.15392266]])"
      ]
     },
     "execution_count": 7,
     "metadata": {
      "tags": []
     },
     "output_type": "execute_result"
    }
   ],
   "source": [
    "train_data"
   ]
  },
  {
   "cell_type": "code",
   "execution_count": 8,
   "metadata": {
    "colab": {},
    "colab_type": "code",
    "executionInfo": {
     "elapsed": 1116,
     "status": "ok",
     "timestamp": 1600791714472,
     "user": {
      "displayName": "Jia-Ling Chang",
      "photoUrl": "",
      "userId": "16568341028415145981"
     },
     "user_tz": -480
    },
    "id": "IRgMWkQ225HU"
   },
   "outputs": [],
   "source": [
    "#模型定義\n",
    "from keras import models\n",
    "from keras import layers\n",
    "def build_model():\n",
    "  model=models.Sequential()\n",
    "  model.add(layers.Dense(64,activation='relu',input_shape=(train_data.shape[1],)))\n",
    "  model.add(layers.Dense(64,activation='relu'))\n",
    "  model.add(layers.Dense(1))\n",
    "  model.compile(optimizer='rmsprop',loss='mse',metrics=['mae'])#mse為均方差，mae為平均絕對誤差\n",
    "  return model"
   ]
  },
  {
   "cell_type": "code",
   "execution_count": 9,
   "metadata": {
    "colab": {
     "base_uri": "https://localhost:8080/",
     "height": 84
    },
    "colab_type": "code",
    "executionInfo": {
     "elapsed": 144982,
     "status": "ok",
     "timestamp": 1600791861358,
     "user": {
      "displayName": "Jia-Ling Chang",
      "photoUrl": "",
      "userId": "16568341028415145981"
     },
     "user_tz": -480
    },
    "id": "G_kBzeGZ42zV",
    "outputId": "ed39574e-e325-4512-c258-bd5694db5f61"
   },
   "outputs": [
    {
     "name": "stdout",
     "output_type": "stream",
     "text": [
      "processing fold# 0\n",
      "processing fold# 1\n",
      "processing fold# 2\n",
      "processing fold# 3\n"
     ]
    }
   ],
   "source": [
    "#利用 K折驗證來驗證模型的成效\n",
    "k=4#進行4折交叉驗證\n",
    "num_val_samples=len(train_data)//k\n",
    "num_epochs=100\n",
    "all_scores=[]\n",
    "for i in range(k):\n",
    "  print('processing fold#',i)\n",
    "  val_data=train_data[i*num_val_samples:(i+1)*num_val_samples]#準備驗證資料\n",
    "  val_targets=train_targets[i*num_val_samples:(i+1)*num_val_samples]\n",
    "  partial_train_data=np.concatenate([train_data[:i*num_val_samples],train_data[(i+1)*num_val_samples:]],axis=0)#準備訓練資料\n",
    "  partial_train_targets=np.concatenate([train_targets[:i*num_val_samples],train_targets[(i+1)*num_val_samples:]],axis=0)\n",
    "  model=build_model()\n",
    "  model.fit(partial_train_data,partial_train_targets,batch_size=1,epochs=num_epochs,verbose=0)\n",
    "  val_mse,val_mae=model.evaluate(val_data,val_targets,verbose=0)#以驗證資料評估模型\n",
    "  all_scores.append(val_mae)"
   ]
  },
  {
   "cell_type": "code",
   "execution_count": 10,
   "metadata": {
    "colab": {
     "base_uri": "https://localhost:8080/",
     "height": 84
    },
    "colab_type": "code",
    "executionInfo": {
     "elapsed": 1614,
     "status": "ok",
     "timestamp": 1600791888554,
     "user": {
      "displayName": "Jia-Ling Chang",
      "photoUrl": "",
      "userId": "16568341028415145981"
     },
     "user_tz": -480
    },
    "id": "_AqR37mnVSxj",
    "outputId": "ab9fa653-96b5-435f-ae7c-eaaf02f05857"
   },
   "outputs": [
    {
     "data": {
      "text/plain": [
       "[1.8715310096740723,\n",
       " 2.6173253059387207,\n",
       " 2.6663894653320312,\n",
       " 2.6605968475341797]"
      ]
     },
     "execution_count": 10,
     "metadata": {
      "tags": []
     },
     "output_type": "execute_result"
    }
   ],
   "source": [
    "all_scores"
   ]
  },
  {
   "cell_type": "code",
   "execution_count": 11,
   "metadata": {
    "colab": {
     "base_uri": "https://localhost:8080/",
     "height": 34
    },
    "colab_type": "code",
    "executionInfo": {
     "elapsed": 790,
     "status": "ok",
     "timestamp": 1600791890769,
     "user": {
      "displayName": "Jia-Ling Chang",
      "photoUrl": "",
      "userId": "16568341028415145981"
     },
     "user_tz": -480
    },
    "id": "2bgAg8N8ZYt-",
    "outputId": "12f5a496-1d4a-401b-9420-39b91f84163f"
   },
   "outputs": [
    {
     "data": {
      "text/plain": [
       "2.453960657119751"
      ]
     },
     "execution_count": 11,
     "metadata": {
      "tags": []
     },
     "output_type": "execute_result"
    }
   ],
   "source": [
    "#驗證分數的平均\n",
    "np.mean(all_scores)"
   ]
  },
  {
   "cell_type": "code",
   "execution_count": 12,
   "metadata": {
    "colab": {
     "base_uri": "https://localhost:8080/",
     "height": 84
    },
    "colab_type": "code",
    "executionInfo": {
     "elapsed": 848798,
     "status": "ok",
     "timestamp": 1600792744239,
     "user": {
      "displayName": "Jia-Ling Chang",
      "photoUrl": "",
      "userId": "16568341028415145981"
     },
     "user_tz": -480
    },
    "id": "pheKam1kZfpO",
    "outputId": "4d5251f0-b7f4-4fc6-c156-f010164d2563"
   },
   "outputs": [
    {
     "name": "stdout",
     "output_type": "stream",
     "text": [
      "processing fold# 0\n",
      "processing fold# 1\n",
      "processing fold# 2\n",
      "processing fold# 3\n"
     ]
    }
   ],
   "source": [
    "#改用500個週期來訓練神經網路，並記錄模型在每個週期的表現\n",
    "num_epochs=500\n",
    "all_mae_histories=[]\n",
    "for i in range(k):\n",
    "  print('processing fold#',i)\n",
    "  val_data=train_data[i*num_val_samples:(i+1)*num_val_samples]#準備驗證資料\n",
    "  val_targets=train_targets[i*num_val_samples:(i+1)*num_val_samples]\n",
    "  partial_train_data=np.concatenate([train_data[:i*num_val_samples],train_data[(i+1)*num_val_samples:]],axis=0)#準備訓練資料\n",
    "  partial_train_targets=np.concatenate([train_targets[:i*num_val_samples],train_targets[(i+1)*num_val_samples:]],axis=0)\n",
    "  model=build_model()\n",
    "  history=model.fit(partial_train_data,partial_train_targets,validation_data=(val_data,val_targets),batch_size=1,epochs=num_epochs,verbose=0)\n",
    "  mae_history=history.history['val_mae']\n",
    "  all_mae_histories.append(mae_history)"
   ]
  },
  {
   "cell_type": "code",
   "execution_count": 13,
   "metadata": {
    "colab": {},
    "colab_type": "code",
    "executionInfo": {
     "elapsed": 1284,
     "status": "ok",
     "timestamp": 1600792756062,
     "user": {
      "displayName": "Jia-Ling Chang",
      "photoUrl": "",
      "userId": "16568341028415145981"
     },
     "user_tz": -480
    },
    "id": "J9pugUgrb9bD"
   },
   "outputs": [],
   "source": [
    "average_mae_history=[np.mean([x[i] for x in all_mae_histories]) for i in range(num_epochs)]"
   ]
  },
  {
   "cell_type": "code",
   "execution_count": 14,
   "metadata": {
    "colab": {
     "base_uri": "https://localhost:8080/",
     "height": 34
    },
    "colab_type": "code",
    "executionInfo": {
     "elapsed": 1004,
     "status": "ok",
     "timestamp": 1600792758313,
     "user": {
      "displayName": "Jia-Ling Chang",
      "photoUrl": "",
      "userId": "16568341028415145981"
     },
     "user_tz": -480
    },
    "id": "-niMaXMMgLDY",
    "outputId": "0650ef85-c4c7-457a-af34-c01e8da35c11"
   },
   "outputs": [
    {
     "data": {
      "text/plain": [
       "(4, 500)"
      ]
     },
     "execution_count": 14,
     "metadata": {
      "tags": []
     },
     "output_type": "execute_result"
    }
   ],
   "source": [
    "np.array(all_mae_histories).shape"
   ]
  },
  {
   "cell_type": "code",
   "execution_count": 15,
   "metadata": {
    "colab": {
     "base_uri": "https://localhost:8080/",
     "height": 34
    },
    "colab_type": "code",
    "executionInfo": {
     "elapsed": 817,
     "status": "ok",
     "timestamp": 1600792759749,
     "user": {
      "displayName": "Jia-Ling Chang",
      "photoUrl": "",
      "userId": "16568341028415145981"
     },
     "user_tz": -480
    },
    "id": "GLB83lo9guHs",
    "outputId": "563875e8-5cc7-45e6-f4c5-9dd52642c5e9"
   },
   "outputs": [
    {
     "data": {
      "text/plain": [
       "500"
      ]
     },
     "execution_count": 15,
     "metadata": {
      "tags": []
     },
     "output_type": "execute_result"
    }
   ],
   "source": [
    "len(average_mae_history)"
   ]
  },
  {
   "cell_type": "code",
   "execution_count": 16,
   "metadata": {
    "colab": {
     "base_uri": "https://localhost:8080/",
     "height": 279
    },
    "colab_type": "code",
    "executionInfo": {
     "elapsed": 981,
     "status": "ok",
     "timestamp": 1600792761537,
     "user": {
      "displayName": "Jia-Ling Chang",
      "photoUrl": "",
      "userId": "16568341028415145981"
     },
     "user_tz": -480
    },
    "id": "_vDPY7dXco5b",
    "outputId": "a80e952a-e444-462b-c9ec-597b81aec7db"
   },
   "outputs": [
    {
     "data": {
      "image/png": "[encoded data removed]",
      "text/plain": [
       "<Figure size 432x288 with 1 Axes>"
      ]
     },
     "metadata": {
      "needs_background": "light",
      "tags": []
     },
     "output_type": "display_data"
    }
   ],
   "source": [
    "#繪製驗證分數\n",
    "plt.plot(range(1,len(average_mae_history)+1),average_mae_history)\n",
    "plt.xlabel('Epochs')\n",
    "plt.ylabel('Validation MAE')\n",
    "plt.show()"
   ]
  },
  {
   "cell_type": "code",
   "execution_count": 22,
   "metadata": {
    "colab": {
     "base_uri": "https://localhost:8080/",
     "height": 279
    },
    "colab_type": "code",
    "executionInfo": {
     "elapsed": 1053,
     "status": "ok",
     "timestamp": 1600793187800,
     "user": {
      "displayName": "Jia-Ling Chang",
      "photoUrl": "",
      "userId": "16568341028415145981"
     },
     "user_tz": -480
    },
    "id": "ZD6G1_MWhO55",
    "outputId": "fc955fc7-6819-4d87-e23d-8d62b657e8a2"
   },
   "outputs": [
    {
     "data": {
      "image/png": "[encoded data removed]",
      "text/plain": [
       "<Figure size 432x288 with 1 Axes>"
      ]
     },
     "metadata": {
      "needs_background": "light",
      "tags": []
     },
     "output_type": "display_data"
    }
   ],
   "source": [
    "#替換成指數移動平均值(EMA)\n",
    "def smooth_curve(points,factor=0.9):\n",
    "  smoothed_points=[]\n",
    "  for point in points:\n",
    "    if smoothed_points:\n",
    "      previous=smoothed_points[-1]\n",
    "      smoothed_points.append(previous*factor+point*(1-factor))\n",
    "    else:\n",
    "      smoothed_points.append(point)\n",
    "  return smoothed_points\n",
    "\n",
    "smooth_mae_history=smooth_curve(average_mae_history[10:])\n",
    "\n",
    "plt.plot(range(1,len(smooth_mae_history)+1),smooth_mae_history)\n",
    "# plt.plot(range(1,100+1),smooth_mae_history[:100])\n",
    "plt.xlabel('Epochs')\n",
    "plt.ylabel('Validation MAE')\n",
    "plt.show()"
   ]
  },
  {
   "cell_type": "code",
   "execution_count": 23,
   "metadata": {
    "colab": {
     "base_uri": "https://localhost:8080/",
     "height": 34
    },
    "colab_type": "code",
    "executionInfo": {
     "elapsed": 810,
     "status": "ok",
     "timestamp": 1600793198013,
     "user": {
      "displayName": "Jia-Ling Chang",
      "photoUrl": "",
      "userId": "16568341028415145981"
     },
     "user_tz": -480
    },
    "id": "ZMyd3sKRpxQZ",
    "outputId": "c28dff58-e41a-4ef4-b3dc-725c06ab5a89"
   },
   "outputs": [
    {
     "data": {
      "text/plain": [
       "490"
      ]
     },
     "execution_count": 23,
     "metadata": {
      "tags": []
     },
     "output_type": "execute_result"
    }
   ],
   "source": [
    "len(smooth_mae_history)"
   ]
  },
  {
   "cell_type": "code",
   "execution_count": 27,
   "metadata": {
    "colab": {
     "base_uri": "https://localhost:8080/",
     "height": 34
    },
    "colab_type": "code",
    "executionInfo": {
     "elapsed": 4700,
     "status": "ok",
     "timestamp": 1600793377193,
     "user": {
      "displayName": "Jia-Ling Chang",
      "photoUrl": "",
      "userId": "16568341028415145981"
     },
     "user_tz": -480
    },
    "id": "rx4ziBNElqRT",
    "outputId": "c43b1250-2df2-4397-e3d3-9ae598250ff8"
   },
   "outputs": [
    {
     "name": "stdout",
     "output_type": "stream",
     "text": [
      "4/4 [==============================] - 0s 2ms/step - loss: 18.4466 - mae: 2.5802\n"
     ]
    }
   ],
   "source": [
    "#訓練最終模型\n",
    "model=build_model()\n",
    "model.fit(train_data,train_targets,epochs=70,batch_size=16,verbose=0)\n",
    "test_mse_score,test_mae_score=model.evaluate(test_data,test_targets)"
   ]
  },
  {
   "cell_type": "code",
   "execution_count": 28,
   "metadata": {
    "colab": {
     "base_uri": "https://localhost:8080/",
     "height": 34
    },
    "colab_type": "code",
    "executionInfo": {
     "elapsed": 879,
     "status": "ok",
     "timestamp": 1600793381343,
     "user": {
      "displayName": "Jia-Ling Chang",
      "photoUrl": "",
      "userId": "16568341028415145981"
     },
     "user_tz": -480
    },
    "id": "u7Z1YpDmn6Bc",
    "outputId": "597d9504-2d33-4392-be1d-073fc714a45a"
   },
   "outputs": [
    {
     "data": {
      "text/plain": [
       "2.580237865447998"
      ]
     },
     "execution_count": 28,
     "metadata": {
      "tags": []
     },
     "output_type": "execute_result"
    }
   ],
   "source": [
    "test_mae_score"
   ]
  },
  {
   "cell_type": "code",
   "execution_count": null,
   "metadata": {
    "colab": {},
    "colab_type": "code",
    "id": "3sYQvMpOn-Mn"
   },
   "outputs": [],
   "source": []
  }
 ],
 "metadata": {
  "accelerator": "GPU",
  "colab": {
   "authorship_tag": "ABX9TyOI/GKGaDRcUe75fErCrUgZ",
   "collapsed_sections": [],
   "name": "boston_housing_deep learning.ipynb",
   "provenance": []
  },
  "kernelspec": {
   "display_name": "Python 3",
   "language": "python",
   "name": "python3"
  },
  "language_info": {
   "codemirror_mode": {
    "name": "ipython",
    "version": 3
   },
   "file_extension": ".py",
   "mimetype": "text/x-python",
   "name": "python",
   "nbconvert_exporter": "python",
   "pygments_lexer": "ipython3",
   "version": "3.7.3"
  }
 },
 "nbformat": 4,
 "nbformat_minor": 1
}
